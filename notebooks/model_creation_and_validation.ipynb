{
 "cells": [
  {
   "cell_type": "markdown",
   "id": "74a50d93-242a-4d18-ba57-fca90ea0621d",
   "metadata": {},
   "source": [
    "# Model building and validation\n",
    "\n",
    "In this notebook we are going to load the already processed data and feed it to two different models, to check which of the models is giving us better results. We are going to use the test set which was saved at the beginning of the experiment to test the best model on the training set.\n",
    "\n",
    "We will use two approaches, model building from scratch using a simple deep learning architecture and transfer learning to VGG16. Once we have checked the model that give us the best results, we will predict the test set and that will be our final result of the experiment. Based on that we can extract our conclusions and next steps for this problem.\n",
    "Another step we could add to this notebook if we had time is model explainability, checking what the model is looking for in the different classes and images to spot any configuration or processing step we could add to the data to simplify the prediction.\n",
    "\n",
    "**Objectives**\n",
    "- Loading the data from the EDA step\n",
    "- Do any further processing in order to feed it to the different models\n",
    "- Create a basic models using keras layers and train it from scratch for this problem\n",
    "- Use transfer learning to train a VGG16 model for this task\n",
    "- Use the best model in terms of Accuracy with the test set\n",
    "\n",
    "**Conclusions**\n",
    "- Training data and validation was loaded smoothly\n",
    "- The creation of the model from scratch was straightforward and brought good results!\n",
    "- I started doing the transfer learning to VGG-16 but it involved a lot of preprocessing and different problems started to arised. As I had a model already working I decided to move forward with that one and leave the VGG-16 approach for another time.\n",
    "- An important improvement will be to add all the preprocessing steps into a scikit learn pipeline or directly into the layers of the keras model, as we only have the rescaling and the grouping of the labels these can be done separatedly, but if we were to have more it would be a good point\n",
    "- Accuracy for the test seems quite good for the model and data augmentation that we have used, having less precission in the classes 1 and 2. This will need investigating, maybe checking the model explainability, or upsampling those classes even further as they are ones of the minority ones.\n",
    "- Final accuracy for the test set is: 95% which is pretty good!\n",
    "- Conclusions for deployment is that we have to take into time the prediction time of the model, depending on the usage that we are going to give it."
   ]
  },
  {
   "cell_type": "markdown",
   "id": "416aba04-b067-421a-b524-408309b31f80",
   "metadata": {},
   "source": [
    "## Imports & Watermark"
   ]
  },
  {
   "cell_type": "code",
   "execution_count": 1,
   "id": "f9168100-c395-4be1-b020-79446a5d03c0",
   "metadata": {},
   "outputs": [
    {
     "name": "stderr",
     "output_type": "stream",
     "text": [
      "2023-10-08 22:01:19.445931: I tensorflow/core/platform/cpu_feature_guard.cc:182] This TensorFlow binary is optimized to use available CPU instructions in performance-critical operations.\n",
      "To enable the following instructions: AVX2 FMA, in other operations, rebuild TensorFlow with the appropriate compiler flags.\n"
     ]
    }
   ],
   "source": [
    "%load_ext watermark\n",
    "import random\n",
    "import numpy as np\n",
    "import seaborn as sns\n",
    "import warnings\n",
    "import tensorflow as tf\n",
    "import keras\n",
    "import matplotlib.pyplot as plt\n",
    "from sklearn.model_selection import train_test_split\n",
    "from centric.dataset import rescale_data\n",
    "from centric.dataset import group_labels\n",
    "from keras.models import Sequential\n",
    "from keras import layers\n",
    "from keras.callbacks import EarlyStopping\n",
    "from sklearn.metrics import confusion_matrix, classification_report"
   ]
  },
  {
   "cell_type": "code",
   "execution_count": 2,
   "id": "5e343dbc-12a4-4536-bdae-be05eb79db1c",
   "metadata": {},
   "outputs": [
    {
     "name": "stdout",
     "output_type": "stream",
     "text": [
      "Last updated: 2023-10-08T22:01:23.294230+02:00\n",
      "\n",
      "Python implementation: CPython\n",
      "Python version       : 3.11.5\n",
      "IPython version      : 8.16.1\n",
      "\n",
      "Compiler    : Clang 13.0.0 (clang-1300.0.29.30)\n",
      "OS          : Darwin\n",
      "Release     : 20.6.0\n",
      "Machine     : x86_64\n",
      "Processor   : i386\n",
      "CPU cores   : 8\n",
      "Architecture: 64bit\n",
      "\n"
     ]
    }
   ],
   "source": [
    "%watermark"
   ]
  },
  {
   "cell_type": "code",
   "execution_count": 3,
   "id": "0546f150-aebb-46de-8c07-d74eaaad6de1",
   "metadata": {},
   "outputs": [
    {
     "name": "stdout",
     "output_type": "stream",
     "text": [
      "numpy     : 1.26.0\n",
      "tensorflow: 2.14.0\n",
      "keras     : 2.14.0\n",
      "matplotlib: 3.8.0\n",
      "seaborn   : 0.13.0\n",
      "\n"
     ]
    }
   ],
   "source": [
    "%watermark --iversions"
   ]
  },
  {
   "cell_type": "markdown",
   "id": "2dd5cf5a-07d0-41f9-9c44-6ee11e371637",
   "metadata": {},
   "source": [
    "## Loading training and validation data\n",
    "\n",
    "We are going to load the training and validation data that we saved before, we are going to rescale the validation data and start with the model building and validation"
   ]
  },
  {
   "cell_type": "code",
   "execution_count": 4,
   "id": "f8d209c6-1aa9-4ec6-a23e-54f9dd313267",
   "metadata": {},
   "outputs": [],
   "source": [
    "X_train = np.load(\"../data/train_images.npy\")\n",
    "y_train = np.load(\"../data/train_labels.npy\")\n",
    "\n",
    "assert X_train.shape == (62400, 28, 28), \"Not the shape we were expecting for the training set.\"\n",
    "assert y_train.shape == (62400,), \"Not the shape we were expecting for the training labels.\""
   ]
  },
  {
   "cell_type": "code",
   "execution_count": 5,
   "id": "1ff938ea-f06f-4f88-87ce-a2f9e9ab5b7d",
   "metadata": {},
   "outputs": [],
   "source": [
    "X_val = np.load(\"../data/validation_images.npy\")\n",
    "y_val = np.load(\"../data/validation_labels.npy\")\n",
    "\n",
    "X_val = rescale_data(X_val)"
   ]
  },
  {
   "cell_type": "markdown",
   "id": "f79f7cd8-8c7d-4e65-8097-3d08cdebc15a",
   "metadata": {},
   "source": [
    "## 1st approach - Small model from scratch\n",
    "\n",
    "We are going to create a deep learning model from scratch, adding our own layers and use the validation data to train and optimize it. We will also use an early stopping approach.\n",
    "This approach is a simple approach when we want an easy model that we know what is roughly doing so that we can modify it at our taste.\n",
    "\n",
    "\n",
    "If we were to productionize this model we would need to put these steps into the source code, but as this is a exploratory notebook and we are still testing which approach to take and modifying some of the parameters I've decided to just leave it here and explain what we are doing in the notebook.\n",
    "\n",
    "We have built the model from scratch and trained it, optimizing it with the Adam approach, using an early stopping mechanism which has worked, as we set 10 epochs but it has only done 6, meaning that the model was starting to over fit.\n",
    "\n",
    "The accuracy for the validation has been: 0.95 which is not bad at all! We could spend much more time here, like adding a dropout layer to reduce the overfitting.\n"
   ]
  },
  {
   "cell_type": "code",
   "execution_count": 6,
   "id": "aa305f6f-0310-4ecd-806e-5c9ee3ab983f",
   "metadata": {},
   "outputs": [],
   "source": [
    "num_classes = len(np.unique(y_train))\n",
    "scratch_model = Sequential([\n",
    "  layers.Conv2D(16, 1, activation='relu', input_shape=(28, 28, 1)),\n",
    "  layers.MaxPooling2D(),\n",
    "  layers.Conv2D(32, 1, activation='relu'),\n",
    "  layers.MaxPooling2D(),\n",
    "  layers.Conv2D(64, 1, activation='relu'),\n",
    "  layers.MaxPooling2D(),\n",
    "  layers.Flatten(),\n",
    "  layers.Dense(128, activation='relu'),\n",
    "  layers.Dense(num_classes)\n",
    "])"
   ]
  },
  {
   "cell_type": "code",
   "execution_count": 7,
   "id": "d2304076-030f-435e-ab69-3b9089a6079d",
   "metadata": {},
   "outputs": [
    {
     "name": "stdout",
     "output_type": "stream",
     "text": [
      "Model: \"sequential_1\"\n",
      "_________________________________________________________________\n",
      " Layer (type)                Output Shape              Param #   \n",
      "=================================================================\n",
      " conv2d (Conv2D)             (None, 28, 28, 16)        32        \n",
      "                                                                 \n",
      " max_pooling2d (MaxPooling2  (None, 14, 14, 16)        0         \n",
      " D)                                                              \n",
      "                                                                 \n",
      " conv2d_1 (Conv2D)           (None, 14, 14, 32)        544       \n",
      "                                                                 \n",
      " max_pooling2d_1 (MaxPoolin  (None, 7, 7, 32)          0         \n",
      " g2D)                                                            \n",
      "                                                                 \n",
      " conv2d_2 (Conv2D)           (None, 7, 7, 64)          2112      \n",
      "                                                                 \n",
      " max_pooling2d_2 (MaxPoolin  (None, 3, 3, 64)          0         \n",
      " g2D)                                                            \n",
      "                                                                 \n",
      " flatten (Flatten)           (None, 576)               0         \n",
      "                                                                 \n",
      " dense (Dense)               (None, 128)               73856     \n",
      "                                                                 \n",
      " dense_1 (Dense)             (None, 5)                 645       \n",
      "                                                                 \n",
      "=================================================================\n",
      "Total params: 77189 (301.52 KB)\n",
      "Trainable params: 77189 (301.52 KB)\n",
      "Non-trainable params: 0 (0.00 Byte)\n",
      "_________________________________________________________________\n"
     ]
    }
   ],
   "source": [
    "scratch_model.summary()"
   ]
  },
  {
   "cell_type": "code",
   "execution_count": 8,
   "id": "0a14e872-850d-4c8b-8846-4d38c9d9567e",
   "metadata": {},
   "outputs": [],
   "source": [
    "scratch_model.compile(optimizer='adam',\n",
    "              loss=tf.keras.losses.SparseCategoricalCrossentropy(from_logits=True),\n",
    "              metrics=['accuracy'])"
   ]
  },
  {
   "cell_type": "code",
   "execution_count": 9,
   "id": "a4325368-c2e0-4a1e-9fbb-ac88d4155267",
   "metadata": {},
   "outputs": [
    {
     "name": "stdout",
     "output_type": "stream",
     "text": [
      "Epoch 1/10\n",
      "1950/1950 [==============================] - 12s 6ms/step - loss: 0.4462 - accuracy: 0.8380 - val_loss: 0.2570 - val_accuracy: 0.9080\n",
      "Epoch 2/10\n",
      "1950/1950 [==============================] - 12s 6ms/step - loss: 0.2458 - accuracy: 0.9146 - val_loss: 0.1859 - val_accuracy: 0.9388\n",
      "Epoch 3/10\n",
      "1950/1950 [==============================] - 11s 6ms/step - loss: 0.1880 - accuracy: 0.9360 - val_loss: 0.1737 - val_accuracy: 0.9426\n",
      "Epoch 4/10\n",
      "1950/1950 [==============================] - 12s 6ms/step - loss: 0.1660 - accuracy: 0.9435 - val_loss: 0.1506 - val_accuracy: 0.9508\n",
      "Epoch 5/10\n",
      "1950/1950 [==============================] - 13s 7ms/step - loss: 0.1519 - accuracy: 0.9475 - val_loss: 0.1416 - val_accuracy: 0.9549\n",
      "Epoch 6/10\n",
      "1950/1950 [==============================] - 12s 6ms/step - loss: 0.1403 - accuracy: 0.9522 - val_loss: 0.1355 - val_accuracy: 0.9562\n",
      "Epoch 7/10\n",
      "1950/1950 [==============================] - 17s 9ms/step - loss: 0.1306 - accuracy: 0.9552 - val_loss: 0.1465 - val_accuracy: 0.9513\n"
     ]
    }
   ],
   "source": [
    "es = EarlyStopping(monitor='val_loss', mode='min', patience=1)\n",
    "epochs=10\n",
    "history = scratch_model.fit(\n",
    "  X_train, y_train,\n",
    "  validation_data=(X_val, y_val),\n",
    "  epochs=epochs,\n",
    "  callbacks = [es]\n",
    ")"
   ]
  },
  {
   "cell_type": "code",
   "execution_count": 10,
   "id": "dab8b00c-4b3d-4527-bd9c-007959d561b5",
   "metadata": {},
   "outputs": [
    {
     "data": {
      "image/png": "[encoded data removed]",
      "text/plain": [
       "<Figure size 800x800 with 2 Axes>"
      ]
     },
     "metadata": {},
     "output_type": "display_data"
    }
   ],
   "source": [
    "acc = history.history['accuracy']\n",
    "val_acc = history.history['val_accuracy']\n",
    "\n",
    "loss = history.history['loss']\n",
    "val_loss = history.history['val_loss']\n",
    "\n",
    "epochs_range = range(len(history.history['loss']))\n",
    "\n",
    "plt.figure(figsize=(8, 8))\n",
    "plt.subplot(1, 2, 1)\n",
    "plt.plot(epochs_range, acc, label='Training Accuracy')\n",
    "plt.plot(epochs_range, val_acc, label='Validation Accuracy')\n",
    "plt.legend(loc='lower right')\n",
    "plt.title('Training and Validation Accuracy')\n",
    "\n",
    "plt.subplot(1, 2, 2)\n",
    "plt.plot(epochs_range, loss, label='Training Loss')\n",
    "plt.plot(epochs_range, val_loss, label='Validation Loss')\n",
    "plt.legend(loc='upper right')\n",
    "plt.title('Training and Validation Loss')\n",
    "plt.show()"
   ]
  },
  {
   "cell_type": "markdown",
   "id": "8daf5e4b-e503-4313-9b9c-1bbc0b46f609",
   "metadata": {},
   "source": [
    "## Loading the test data and using it to validate our best model\n",
    "\n",
    "We need to do the preprocessing steps for the test data and predict the labels using the model we have just trained.\n",
    "We are going to check the metrics across the different classes to see if the up sampling and balancing of the classes worked at the end."
   ]
  },
  {
   "cell_type": "code",
   "execution_count": 11,
   "id": "1e73f6da-4782-4385-ac00-8cc7d012f9ce",
   "metadata": {},
   "outputs": [],
   "source": [
    "X_test = np.load(\"../data/holdout_images.npy\")\n",
    "y_test = np.load(\"../data/holdout_labels.npy\")"
   ]
  },
  {
   "cell_type": "code",
   "execution_count": 12,
   "id": "8e42a8ee-0ee0-493c-8b3b-2db0ac08afa0",
   "metadata": {},
   "outputs": [],
   "source": [
    "# Preprocess pipeline\n",
    "X_test = rescale_data(X_test)\n",
    "y_test = group_labels(y_test)"
   ]
  },
  {
   "cell_type": "code",
   "execution_count": 13,
   "id": "ed054ef5-e68b-44e9-9897-e1f5f011bcd4",
   "metadata": {},
   "outputs": [
    {
     "name": "stdout",
     "output_type": "stream",
     "text": [
      "313/313 [==============================] - 1s 2ms/step\n"
     ]
    }
   ],
   "source": [
    "y_pred = scratch_model.predict(X_test)"
   ]
  },
  {
   "cell_type": "code",
   "execution_count": 14,
   "id": "d1614937-71d1-42be-bd38-c5120f7c4ca1",
   "metadata": {},
   "outputs": [],
   "source": [
    "val_preds = np.argmax(y_pred, axis=1)"
   ]
  },
  {
   "cell_type": "code",
   "execution_count": 19,
   "id": "6646b34c-a03f-44e3-9f1b-2fcbc48a6374",
   "metadata": {},
   "outputs": [
    {
     "name": "stdout",
     "output_type": "stream",
     "text": [
      "              precision    recall  f1-score   support\n",
      "\n",
      "           0       0.94      0.97      0.95      4000\n",
      "           1       0.97      0.94      0.96      1000\n",
      "           2       0.92      0.73      0.82      1000\n",
      "           3       0.98      1.00      0.99      3000\n",
      "           4       0.94      0.96      0.95      1000\n",
      "\n",
      "    accuracy                           0.95     10000\n",
      "   macro avg       0.95      0.92      0.93     10000\n",
      "weighted avg       0.95      0.95      0.95     10000\n",
      "\n"
     ]
    }
   ],
   "source": [
    "print(classification_report(y_test, val_preds))"
   ]
  },
  {
   "cell_type": "code",
   "execution_count": 16,
   "id": "d00becdd-49f0-4785-9298-e66e7dccc4ba",
   "metadata": {},
   "outputs": [
    {
     "data": {
      "text/plain": [
       "array([[3893,    8,   41,   11,   47],\n",
       "       [  32,  940,   19,    5,    4],\n",
       "       [ 207,   17,  732,   38,    6],\n",
       "       [   0,    1,    0, 2991,    8],\n",
       "       [  24,    2,    1,    9,  964]])"
      ]
     },
     "execution_count": 16,
     "metadata": {},
     "output_type": "execute_result"
    }
   ],
   "source": [
    "confusion_matrix(y_test, val_preds)"
   ]
  },
  {
   "cell_type": "markdown",
   "id": "46e35270-76eb-4db9-8d70-620faf1eacb8",
   "metadata": {},
   "source": [
    "## Saving the model for future use"
   ]
  },
  {
   "cell_type": "code",
   "execution_count": 17,
   "id": "8be8659d-ad4f-4700-a600-4c5d85b1ed91",
   "metadata": {},
   "outputs": [],
   "source": [
    "tf.keras.models.save_model(scratch_model,\"../models/scratch_model.keras\")"
   ]
  },
  {
   "cell_type": "code",
   "execution_count": null,
   "id": "eeeca5e5-2780-4f17-97b3-d90adf48d0df",
   "metadata": {},
   "outputs": [],
   "source": []
  }
 ],
 "metadata": {
  "kernelspec": {
   "display_name": "centricvenv",
   "language": "python",
   "name": "centricvenv"
  },
  "language_info": {
   "codemirror_mode": {
    "name": "ipython",
    "version": 3
   },
   "file_extension": ".py",
   "mimetype": "text/x-python",
   "name": "python",
   "nbconvert_exporter": "python",
   "pygments_lexer": "ipython3",
   "version": "3.11.5"
  }
 },
 "nbformat": 4,
 "nbformat_minor": 5
}
